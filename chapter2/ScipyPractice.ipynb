{
 "cells": [
  {
   "cell_type": "code",
   "execution_count": 1,
   "metadata": {},
   "outputs": [
    {
     "name": "stdout",
     "output_type": "stream",
     "text": [
      "-12.000000000000002\n"
     ]
    }
   ],
   "source": [
    "import numpy as np\n",
    "import scipy.linalg as linalg\n",
    "\n",
    "\n",
    "# Practice 2-4\n",
    "matrix = np.array([[1,2,3],[1,3,2],[3,1,2]])\n",
    "print(linalg.det(matrix))"
   ]
  },
  {
   "cell_type": "code",
   "execution_count": 4,
   "metadata": {},
   "outputs": [
    {
     "name": "stdout",
     "output_type": "stream",
     "text": [
      "[[-0.33333333  0.08333333  0.41666667]\n",
      " [-0.33333333  0.58333333 -0.08333333]\n",
      " [ 0.66666667 -0.41666667 -0.08333333]]\n",
      "[ 6.        +0.j -1.41421356+0.j  1.41421356+0.j]\n",
      "[[-0.57735027 -0.72236645  0.16041816]\n",
      " [-0.57735027 -0.14290228 -0.81090869]\n",
      " [-0.57735027  0.67658381  0.56275492]]\n"
     ]
    }
   ],
   "source": [
    "# Practice 2-5\n",
    "inv_matrix = linalg.inv(matrix)\n",
    "print(inv_matrix)\n",
    "eig_value, eig_vector = linalg.eig(matrix)\n",
    "print(eig_value)\n",
    "print(eig_vector)"
   ]
  },
  {
   "cell_type": "code",
   "execution_count": 6,
   "metadata": {},
   "outputs": [
    {
     "data": {
      "text/plain": [
       "-0.45339765151640365"
      ]
     },
     "execution_count": 6,
     "metadata": {},
     "output_type": "execute_result"
    }
   ],
   "source": [
    "# Practice 2-6\n",
    "from scipy.optimize import newton\n",
    "\n",
    "def my_func(x: float) -> float:\n",
    "    return x**3 + 2*x + 1\n",
    "\n",
    "newton(my_func,0)"
   ]
  }
 ],
 "metadata": {
  "kernelspec": {
   "display_name": "Python 3",
   "language": "python",
   "name": "python3"
  },
  "language_info": {
   "codemirror_mode": {
    "name": "ipython",
    "version": 3
   },
   "file_extension": ".py",
   "mimetype": "text/x-python",
   "name": "python",
   "nbconvert_exporter": "python",
   "pygments_lexer": "ipython3",
   "version": "3.7.4"
  }
 },
 "nbformat": 4,
 "nbformat_minor": 2
}
