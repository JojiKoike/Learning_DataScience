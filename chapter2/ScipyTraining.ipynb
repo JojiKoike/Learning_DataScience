{
 "cells": [
  {
   "cell_type": "code",
   "execution_count": 5,
   "metadata": {},
   "outputs": [
    {
     "name": "stdout",
     "output_type": "stream",
     "text": [
      "[[ 1 -1 -1]\n",
      " [-1  1 -1]\n",
      " [-1 -1  1]]\n",
      "-4.0\n",
      "[[ 0.  -0.5 -0.5]\n",
      " [-0.5 -0.  -0.5]\n",
      " [-0.5 -0.5  0. ]]\n",
      "[[1. 0. 0.]\n",
      " [0. 1. 0.]\n",
      " [0. 0. 1.]]\n"
     ]
    }
   ],
   "source": [
    "import numpy as np\n",
    "import scipy.linalg as linalg\n",
    "\n",
    "\n",
    "# Matrix Determinant\n",
    "matrix = np.array([[1, -1, -1],[-1,1,-1],[-1,-1,1]])\n",
    "print(matrix)\n",
    "print(linalg.det(matrix))\n",
    "\n",
    "# Matrix Inverse\n",
    "matrix_inv = linalg.inv(matrix)\n",
    "print(matrix_inv)\n",
    "print(np.dot(matrix, matrix_inv))"
   ]
  },
  {
   "cell_type": "code",
   "execution_count": 6,
   "metadata": {},
   "outputs": [],
   "source": [
    "# Eigen Value, Vector\n",
    "eig_v, eig_vec = linalg.eig(matrix)"
   ]
  },
  {
   "cell_type": "code",
   "execution_count": 7,
   "metadata": {},
   "outputs": [
    {
     "name": "stdout",
     "output_type": "stream",
     "text": [
      "Eigen Value : [-1.+0.j  2.+0.j  2.+0.j]\n",
      "Eigen Vector : [[ 0.57735027  0.81649658  0.40824829]\n",
      " [ 0.57735027 -0.40824829 -0.81649658]\n",
      " [ 0.57735027 -0.40824829  0.40824829]]\n"
     ]
    }
   ],
   "source": [
    "print(\"Eigen Value : {0}\".format(eig_v))\n",
    "print(\"Eigen Vector : {0}\".format(eig_vec))"
   ]
  },
  {
   "cell_type": "code",
   "execution_count": 13,
   "metadata": {},
   "outputs": [
    {
     "name": "stdout",
     "output_type": "stream",
     "text": [
      "-0.999999985174924\n"
     ]
    }
   ],
   "source": [
    "# Newton Method\n",
    "from scipy.optimize import newton\n",
    "\n",
    "def my_func(x: float) -> float:\n",
    "    return (x**2+ 2*x + 1)\n",
    "\n",
    "print(newton(my_func, 0))\n"
   ]
  },
  {
   "cell_type": "code",
   "execution_count": 14,
   "metadata": {},
   "outputs": [
    {
     "name": "stdout",
     "output_type": "stream",
     "text": [
      "     fun: 0.0\n",
      "    nfev: 9\n",
      "     nit: 4\n",
      " success: True\n",
      "       x: -1.0000000000000002\n"
     ]
    }
   ],
   "source": [
    "# min\n",
    "from scipy.optimize import minimize_scalar\n",
    "\n",
    "print(minimize_scalar(my_func, method='Brent'))"
   ]
  }
 ],
 "metadata": {
  "kernelspec": {
   "display_name": "Python 3",
   "language": "python",
   "name": "python3"
  },
  "language_info": {
   "codemirror_mode": {
    "name": "ipython",
    "version": 3
   },
   "file_extension": ".py",
   "mimetype": "text/x-python",
   "name": "python",
   "nbconvert_exporter": "python",
   "pygments_lexer": "ipython3",
   "version": "3.7.4"
  }
 },
 "nbformat": 4,
 "nbformat_minor": 2
}
